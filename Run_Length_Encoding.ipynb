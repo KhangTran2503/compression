{
 "cells": [
  {
   "cell_type": "code",
   "execution_count": 1,
   "metadata": {},
   "outputs": [],
   "source": [
    "class RLE:\n",
    "    def __init__(self):\n",
    "        self.data = ''\n",
    "        self.compress_ratio = 0\n",
    "        self.encode = ''\n",
    "        \n",
    "    def compress(self,data):\n",
    "        self.data = data\n",
    "        \n",
    "        i = 0\n",
    "        lendata = len(data)\n",
    "        while i < lendata:\n",
    "            j = i\n",
    "            while j < lendata and data[i] == data[j]: j += 1\n",
    "            self.encode += data[i]\n",
    "            self.encode += str(j - i)\n",
    "            i = j\n",
    "            \n",
    "        self.compress_ratio = len(self.data)/len(self.encode)\n",
    "        \n",
    "    def get_encode(self):\n",
    "        return self.encode\n",
    "\n",
    "    def get_compress_ratio(self):\n",
    "        return self.compress_ratio\n",
    "    \n",
    "\n",
    "        \n",
    "        "
   ]
  },
  {
   "cell_type": "code",
   "execution_count": 2,
   "metadata": {},
   "outputs": [],
   "source": [
    "Text = 'abbbbbcccc'\n",
    "encode = RLE()\n",
    "encode.compress(Text)"
   ]
  },
  {
   "cell_type": "code",
   "execution_count": 3,
   "metadata": {},
   "outputs": [
    {
     "name": "stdout",
     "output_type": "stream",
     "text": [
      "Data is encoded:\n",
      "a1b5c4\n",
      "Compression Ration: 1.6666666666666667\n"
     ]
    }
   ],
   "source": [
    "print('Data is encoded:')\n",
    "print(encode.get_encode())\n",
    "print('Compression Ration: {}'.format(encode.get_compress_ratio()))"
   ]
  }
 ],
 "metadata": {
  "kernelspec": {
   "display_name": "Python 3",
   "language": "python",
   "name": "python3"
  },
  "language_info": {
   "codemirror_mode": {
    "name": "ipython",
    "version": 3
   },
   "file_extension": ".py",
   "mimetype": "text/x-python",
   "name": "python",
   "nbconvert_exporter": "python",
   "pygments_lexer": "ipython3",
   "version": "3.6.9"
  }
 },
 "nbformat": 4,
 "nbformat_minor": 4
}
