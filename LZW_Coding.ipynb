{
 "cells": [
  {
   "cell_type": "code",
   "execution_count": 32,
   "metadata": {},
   "outputs": [],
   "source": [
    "from collections import defaultdict\n",
    "from copy import deepcopy"
   ]
  },
  {
   "cell_type": "code",
   "execution_count": 62,
   "metadata": {},
   "outputs": [],
   "source": [
    "class LZW:\n",
    "    def __init__(self,):\n",
    "        self.dict = defaultdict(int)\n",
    "        self.data = ''\n",
    "        self.compress_ratio = 0\n",
    "        self.B = None\n",
    "        self.encode = ''\n",
    "        \n",
    "    def __get_dict(self,data):\n",
    "        cnt = 0\n",
    "        for char in data:\n",
    "            if self.dict[char] == 0:\n",
    "                cnt += 1\n",
    "                self.dict[char] = cnt\n",
    "        \n",
    "    def compress(self,data):\n",
    "        self.data = data\n",
    "        self.__get_dict(data)\n",
    "        \n",
    "        encode_arr = []\n",
    "        s = ''\n",
    "        data = list(data) + ['EOF']\n",
    "        dictionary = deepcopy(self.dict)\n",
    "        \n",
    "        s = data[0]\n",
    "        count = len(dictionary)\n",
    "        for i in range(1,len(data)):\n",
    "            c = data[i]\n",
    "            if c == 'EOF':\n",
    "                encode_arr.append(str(dictionary[s]))\n",
    "            else:\n",
    "                if dictionary[s + c] > 0:\n",
    "                    s += c\n",
    "                else:\n",
    "                    encode_arr.append(str(dictionary[s]))\n",
    "                    count += 1\n",
    "                    dictionary[s + c] = count\n",
    "                    s = c\n",
    "                \n",
    "        self.encode = ' '.join(encode_arr)\n",
    "        #print(self.encode)\n",
    "                \n",
    "        \n",
    "    def share_encode(self):\n",
    "        return (self.encode,self.dict)\n",
    "    \n",
    "    #def get_info():\n",
    "        \n",
    "        \n",
    "    @staticmethod\n",
    "    def decompress(encode_data):\n",
    "        encode,encode_dict = encode_data\n",
    "        \n",
    "        decode_dict = defaultdict(str)\n",
    "        #print(encode_dict)\n",
    "        for (key,val) in encode_dict.items():\n",
    "            decode_dict[val] = key\n",
    "            \n",
    "        count = len(decode_dict)\n",
    "        decode = [int(x) for x in encode.split()]\n",
    "        \n",
    "        s = ''\n",
    "        \n",
    "        ans = ''\n",
    "        for k in decode:\n",
    "            entry = decode_dict[k]\n",
    "            \n",
    "            if entry == '':\n",
    "                entry = s + s[0]\n",
    "            \n",
    "            ans += entry\n",
    "            if s != '':\n",
    "                count += 1\n",
    "                decode_dict[count] = s + entry[0]\n",
    "            s = entry\n",
    "        \n",
    "        return ans\n",
    "        "
   ]
  },
  {
   "cell_type": "markdown",
   "metadata": {},
   "source": [
    "# 1. Encode"
   ]
  },
  {
   "cell_type": "code",
   "execution_count": 63,
   "metadata": {},
   "outputs": [],
   "source": [
    "test = 'ABABBABCABABBA'"
   ]
  },
  {
   "cell_type": "code",
   "execution_count": 64,
   "metadata": {},
   "outputs": [],
   "source": [
    "encoder = LZW()\n"
   ]
  },
  {
   "cell_type": "code",
   "execution_count": 65,
   "metadata": {},
   "outputs": [],
   "source": [
    "encoder.compress(test)"
   ]
  },
  {
   "cell_type": "markdown",
   "metadata": {},
   "source": [
    "# 2. Decode"
   ]
  },
  {
   "cell_type": "code",
   "execution_count": 66,
   "metadata": {},
   "outputs": [
    {
     "name": "stdout",
     "output_type": "stream",
     "text": [
      "('1 2 4 5 2 3 4 6 1', defaultdict(<class 'int'>, {'A': 1, 'B': 2, 'C': 3}))\n"
     ]
    }
   ],
   "source": [
    "data_encode = encoder.share_encode()\n",
    "print(data_encode)"
   ]
  },
  {
   "cell_type": "code",
   "execution_count": 69,
   "metadata": {},
   "outputs": [
    {
     "name": "stdout",
     "output_type": "stream",
     "text": [
      "ABABBABCABABBA\n"
     ]
    }
   ],
   "source": [
    "print(LZW().decompress(data_encode))"
   ]
  },
  {
   "cell_type": "code",
   "execution_count": null,
   "metadata": {},
   "outputs": [],
   "source": []
  }
 ],
 "metadata": {
  "kernelspec": {
   "display_name": "Python 3",
   "language": "python",
   "name": "python3"
  },
  "language_info": {
   "codemirror_mode": {
    "name": "ipython",
    "version": 3
   },
   "file_extension": ".py",
   "mimetype": "text/x-python",
   "name": "python",
   "nbconvert_exporter": "python",
   "pygments_lexer": "ipython3",
   "version": "3.6.9"
  }
 },
 "nbformat": 4,
 "nbformat_minor": 4
}
