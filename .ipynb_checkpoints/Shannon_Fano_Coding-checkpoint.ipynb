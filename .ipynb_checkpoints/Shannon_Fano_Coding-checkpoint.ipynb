{
 "cells": [
  {
   "cell_type": "code",
   "execution_count": 209,
   "metadata": {},
   "outputs": [],
   "source": [
    "from collections import Counter,defaultdict\n",
    "import math\n",
    "import pandas as pd\n",
    "import copy"
   ]
  },
  {
   "cell_type": "code",
   "execution_count": 256,
   "metadata": {},
   "outputs": [],
   "source": [
    "\"\"\"\n",
    "@author: KhangTran2503\n",
    "\"\"\"\n",
    "\n",
    "class Shannon_FanoTree():\n",
    "    def __init__(self):\n",
    "        #assert data is None\n",
    "        self.data = []\n",
    "        self.frequency = []\n",
    "        self.dict = defaultdict(list)\n",
    "        self.B1 = 0\n",
    "        self.B0 = 0\n",
    "        self.ideal_entropy = 0\n",
    "        self.encode = ''\n",
    "    \n",
    "    # add data to dict\n",
    "    def add_node(self,name,code):\n",
    "        f = self.dict[name][-1]\n",
    "        pi = f/len(self.data)\n",
    "        lencode = len(code)\n",
    "        entropy = math.log(1/pi,2)\n",
    "        self.dict[name].append(entropy)\n",
    "        self.dict[name].append(code)\n",
    "        self.dict[name].append(lencode*f)\n",
    "        self.B1 += f*lencode\n",
    "        self.ideal_entropy += pi*entropy\n",
    "    \n",
    "    \"\"\"\n",
    "        recursive [L,R] and code\n",
    "        go to left => code + '0'\n",
    "        go to right => code + '1'\n",
    "    \"\"\" \n",
    "    def recur(self,Range,code):\n",
    "        l, r = Range\n",
    "        if l == r: return \n",
    "        if l + 1 == r:\n",
    "            self.add_node(self.frequency[l][0],code)\n",
    "            return\n",
    "        \n",
    "        idx = self.break_point(Range)\n",
    "        self.recur((l,idx),code + '0')\n",
    "        self.recur((idx,r),code + '1')\n",
    "        \n",
    "    # function compress data\n",
    "    def compress(self,data):\n",
    "        #assign data\n",
    "        self.data = list(data)\n",
    "        self.B0 = len(self.data)*8\n",
    "        \n",
    "        # get frequency of each elements in data\n",
    "        frequency = Counter(self.data)\n",
    "        self.frequency = frequency.most_common()\n",
    "        \n",
    "        # insert  \n",
    "        for key, val in self.frequency:\n",
    "            self.dict[key].append(val)\n",
    "            \n",
    "        self.recur((0,len(self.frequency)),'')\n",
    "        self.encode = ' '.join([self.dict[x][2] for x in self.data])    \n",
    "        \n",
    "    # find idx such that diff sum([L,idx)) and sum([idx,R)) is minimize \n",
    "    def break_point(self,Range):\n",
    "        L, R = Range\n",
    "        Sum = 0\n",
    "        # Calc Sum in [L,R]\n",
    "        for i in range(L,R):\n",
    "            _,f = self.frequency[i]\n",
    "            Sum += f\n",
    "            \n",
    "        mindiff = 9999999999999\n",
    "        part1 = 0\n",
    "        breakp = L + 1\n",
    "        for i in range(L,R):\n",
    "            _,f = self.frequency[i]\n",
    "            part1 += f\n",
    "            diff = abs(Sum - 2*part1)\n",
    "            if diff < mindiff:\n",
    "                mindiff = diff\n",
    "                breakp = i + 1\n",
    "        return breakp\n",
    "    \n",
    "    # sent encode to decoder \n",
    "    def share_encode(self):\n",
    "        return (self.encode,self.dict)\n",
    "    \n",
    "    def get_DataFrame(self):\n",
    "        return pd.DataFrame.from_dict(self.dict, orient='index',\n",
    "                                columns=['Freq', '-log2(pi)', 'Code', 'Bits used'])\n",
    "    def get_information(self):\n",
    "        print(self.get_DataFrame())\n",
    "        print('\\nB0                  : {}'.format(self.B0))\n",
    "        print('B1                  : {}'.format(self.B1))\n",
    "        print('Compression Ratio   : {}'.format(self.B0/self.B1))\n",
    "        print('Ideal Entropy       : {}'.format(self.ideal_entropy))\n",
    "        print('Compression Entropy : {}'.format((8*self.B1)/self.B0))\n",
    "        \n",
    "    @staticmethod\n",
    "    def decoder(encode):\n",
    "        code,encode_dict = encode\n",
    "        decode_dict = dict([(val[2],key) for key,val in encode_dict.items()])\n",
    "        return ''.join(list(map(lambda x: decode_dict[x],code.split())))"
   ]
  },
  {
   "cell_type": "markdown",
   "metadata": {},
   "source": [
    "# 1. Encode"
   ]
  },
  {
   "cell_type": "code",
   "execution_count": 263,
   "metadata": {},
   "outputs": [
    {
     "name": "stdout",
     "output_type": "stream",
     "text": [
      "   Freq  -log2(pi) Code  Bits used\n",
      "L     2   1.321928    0          2\n",
      "H     1   2.321928   10          2\n",
      "E     1   2.321928  110          3\n",
      "O     1   2.321928  111          3\n",
      "\n",
      "B0                  : 40\n",
      "B1                  : 10\n",
      "Compression Ratio   : 4.0\n",
      "Ideal Entropy       : 1.9219280948873623\n",
      "Compression Entropy : 2.0\n"
     ]
    }
   ],
   "source": [
    "Text = 'HELLO' \n",
    "encoder = Shannon_FanoTree()\n",
    "encoder.compress(Text)\n",
    "encoder.get_information()"
   ]
  },
  {
   "cell_type": "code",
   "execution_count": 264,
   "metadata": {},
   "outputs": [],
   "source": [
    "share_encode = encoder.share_encode()"
   ]
  },
  {
   "cell_type": "code",
   "execution_count": 270,
   "metadata": {},
   "outputs": [
    {
     "name": "stdout",
     "output_type": "stream",
     "text": [
      "Data is encoded:\n",
      "10 110 0 0 111\n"
     ]
    }
   ],
   "source": [
    "print('Data is encoded:')\n",
    "print(share_encode[0])"
   ]
  },
  {
   "cell_type": "markdown",
   "metadata": {},
   "source": [
    "# 2. Decode"
   ]
  },
  {
   "cell_type": "code",
   "execution_count": 265,
   "metadata": {},
   "outputs": [
    {
     "name": "stdout",
     "output_type": "stream",
     "text": [
      "Data after decode: \n",
      "HELLO\n"
     ]
    }
   ],
   "source": [
    "print('Data after decode: ')\n",
    "print(Shannon_FanoTree().decoder(share_encode))"
   ]
  }
 ],
 "metadata": {
  "kernelspec": {
   "display_name": "Python 3",
   "language": "python",
   "name": "python3"
  },
  "language_info": {
   "codemirror_mode": {
    "name": "ipython",
    "version": 3
   },
   "file_extension": ".py",
   "mimetype": "text/x-python",
   "name": "python",
   "nbconvert_exporter": "python",
   "pygments_lexer": "ipython3",
   "version": "3.6.9"
  }
 },
 "nbformat": 4,
 "nbformat_minor": 4
}
