{
  "nbformat": 4,
  "nbformat_minor": 0,
  "metadata": {
    "colab": {
      "name": "Untitled10.ipynb",
      "provenance": [],
      "mount_file_id": "1LeiB73_uLvuzHk7hvvpBh8Vh7GfpYCTs",
      "authorship_tag": "ABX9TyO3yJibaI/VGOVcLiPmMQfA",
      "include_colab_link": true
    },
    "kernelspec": {
      "name": "python3",
      "display_name": "Python 3"
    }
  },
  "cells": [
    {
      "cell_type": "markdown",
      "metadata": {
        "id": "view-in-github",
        "colab_type": "text"
      },
      "source": [
        "<a href=\"https://colab.research.google.com/github/shaking54/compression/blob/master/Shannon_Fano_Coding.ipynb\" target=\"_parent\"><img src=\"https://colab.research.google.com/assets/colab-badge.svg\" alt=\"Open In Colab\"/></a>"
      ]
    },
    {
      "cell_type": "code",
      "metadata": {
        "id": "CoEOrcwmEzrh",
        "colab_type": "code",
        "colab": {}
      },
      "source": [
        "from collections import Counter,defaultdict\n",
        "import math\n",
        "import pandas as pd\n",
        "import copy\n",
        "import os"
      ],
      "execution_count": 18,
      "outputs": []
    },
    {
      "cell_type": "code",
      "metadata": {
        "id": "rL6HqB-rBdDM",
        "colab_type": "code",
        "colab": {}
      },
      "source": [
        "class Shannon_FanoTree():\n",
        "    def __init__(self):\n",
        "        #assert data is None\n",
        "        self.data = []\n",
        "        self.frequency = []\n",
        "        self.dict = defaultdict(list)\n",
        "        self.B1 = 0\n",
        "        self.B0 = 0\n",
        "        self.ideal_entropy = 0\n",
        "        self.encode = ''\n",
        "    \n",
        "    # add data to dict\n",
        "    def add_node(self,name,code):\n",
        "        f = self.dict[name][-1]\n",
        "        pi = f/len(self.data)\n",
        "        lencode = len(code)\n",
        "        entropy = math.log(1/pi,2)\n",
        "        self.dict[name].append(entropy)\n",
        "        self.dict[name].append(code)\n",
        "        self.dict[name].append(lencode*f)\n",
        "        self.B1 += f*lencode\n",
        "        self.ideal_entropy += pi*entropy\n",
        "    \n",
        "    \"\"\"\n",
        "        recursive [L,R] and code\n",
        "        go to left => code + '0'\n",
        "        go to right => code + '1'\n",
        "    \"\"\" \n",
        "    def recur(self,Range,code):\n",
        "        l, r = Range\n",
        "        if l == r: return \n",
        "        if l + 1 == r:\n",
        "            self.add_node(self.frequency[l][0],code)\n",
        "            return\n",
        "        \n",
        "        idx = self.break_point(Range)\n",
        "        self.recur((l,idx),code + '0')\n",
        "        self.recur((idx,r),code + '1')\n",
        "        \n",
        "    # function compress data\n",
        "    def compress(self,data):\n",
        "        #assign data\n",
        "        self.data = list(data)\n",
        "        self.B0 = len(self.data)*8\n",
        "        \n",
        "        # get frequency of each elements in data\n",
        "        frequency = Counter(self.data)\n",
        "        self.frequency = frequency.most_common()\n",
        "        \n",
        "        # insert  \n",
        "        for key, val in self.frequency:\n",
        "            self.dict[key].append(val)\n",
        "            \n",
        "        self.recur((0,len(self.frequency)),'')\n",
        "        self.encode = ' '.join([self.dict[x][2] for x in self.data])    \n",
        "        \n",
        "    # find idx such that diff sum([L,idx)) and sum([idx,R)) is minimize \n",
        "    def break_point(self,Range):\n",
        "        L, R = Range\n",
        "        Sum = 0\n",
        "        # Calc Sum in [L,R]\n",
        "        for i in range(L,R):\n",
        "            _,f = self.frequency[i]\n",
        "            Sum += f\n",
        "            \n",
        "        mindiff = 9999999999999\n",
        "        part1 = 0\n",
        "        breakp = L + 1\n",
        "        for i in range(L,R):\n",
        "            _,f = self.frequency[i]\n",
        "            part1 += f\n",
        "            diff = abs(Sum - 2*part1)\n",
        "            if diff < mindiff:\n",
        "                mindiff = diff\n",
        "                breakp = i + 1\n",
        "        return breakp\n",
        "    \n",
        "    # sent encode to decoder \n",
        "    def share_encode(self):\n",
        "        return (self.encode,self.dict)\n",
        "    \n",
        "    def get_DataFrame(self):\n",
        "        return pd.DataFrame.from_dict(self.dict, orient='index',\n",
        "                                columns=['Freq', '-log2(pi)', 'Code', 'Bits used'])\n",
        "    def get_information(self):\n",
        "        print(self.get_DataFrame())\n",
        "        print('\\nB0                  : {}'.format(self.B0))\n",
        "        print('B1                  : {}'.format(self.B1))\n",
        "        print('Compression Ratio   : {}'.format(self.B0/self.B1))\n",
        "        print('Ideal Entropy       : {}'.format(self.ideal_entropy))\n",
        "        print('Compression Entropy : {}'.format((8*self.B1)/self.B0))\n",
        "        \n",
        "    @staticmethod\n",
        "    def decoder(encode):\n",
        "        code,encode_dict = encode\n",
        "        decode_dict = dict([(val[2],key) for key,val in encode_dict.items()])\n",
        "        return ''.join(list(map(lambda x: decode_dict[x],code.split())))"
      ],
      "execution_count": 10,
      "outputs": []
    },
    {
      "cell_type": "code",
      "metadata": {
        "id": "HC-ipGVjBnCc",
        "colab_type": "code",
        "colab": {}
      },
      "source": [
        "import zipfile\n",
        "\n",
        "zipfile.ZipFile('/content/drive/My Drive/data.zip', 'r').extractall('/content/')"
      ],
      "execution_count": 2,
      "outputs": []
    },
    {
      "cell_type": "code",
      "metadata": {
        "id": "f45ctl5TIVke",
        "colab_type": "code",
        "colab": {
          "base_uri": "https://localhost:8080/",
          "height": 1000
        },
        "outputId": "556214a1-bd95-48ec-c618-05f023c0ef79"
      },
      "source": [
        "f = open('/content/data/text/1.txt', 'r')\n",
        "data = f.read()\n",
        "test = Shannon_FanoTree()\n",
        "test.compress(data)\n",
        "test.get_information()"
      ],
      "execution_count": 35,
      "outputs": [
        {
          "output_type": "stream",
          "text": [
            "    Freq  -log2(pi)        Code  Bits used\n",
            "      97   2.766409         000        291\n",
            "e     51   3.693897         001        153\n",
            "s     35   4.237039        0100        140\n",
            "a     34   4.278859        0101        136\n",
            "i     33   4.321928        0110        132\n",
            "r     33   4.321928       01110        165\n",
            "o     33   4.321928       01111        165\n",
            "t     30   4.459432       10000        150\n",
            "l     25   4.722466       10001        125\n",
            "n     23   4.842760       10010        115\n",
            "c     18   5.196397       10011         90\n",
            "u     16   5.366322       10100         80\n",
            "p     16   5.366322      101010         96\n",
            "h     13   5.665882      101011         78\n",
            "T     13   5.665882       10110         65\n",
            "m     12   5.781360      101110         72\n",
            "y     10   6.044394      101111         60\n",
            "d     10   6.044394      110000         60\n",
            "S      9   6.196397      110001         54\n",
            "\\n     9   6.196397      110010         54\n",
            "R      9   6.196397      110011         54\n",
            "P      8   6.366322      110100         48\n",
            "'      8   6.366322     1101010         56\n",
            "k      7   6.558967     1101011         49\n",
            "f      7   6.558967      110110         42\n",
            "w      7   6.558967     1101110         49\n",
            "W      7   6.558967     1101111         49\n",
            "A      7   6.558967      111000         42\n",
            "M      6   6.781360     1110010         42\n",
            "O      6   6.781360     1110011         42\n",
            "H      6   6.781360     1110100         42\n",
            "C      6   6.781360     1110101         42\n",
            "F      6   6.781360     1110110         42\n",
            "g      6   6.781360     1110111         42\n",
            "L      5   7.044394     1111000         35\n",
            "b      4   7.366322     1111001         28\n",
            "I      4   7.366322    11110100         32\n",
            "U      3   7.781360    11110101         24\n",
            "E      3   7.781360    11110110         24\n",
            "N      3   7.781360    11110111         24\n",
            "x      3   7.781360    11111000         24\n",
            "v      2   8.366322    11111001         16\n",
            "-      2   8.366322    11111010         16\n",
            "D      2   8.366322   111110110         18\n",
            "J      2   8.366322   111110111         18\n",
            ",      2   8.366322    11111100         16\n",
            ".      1   9.366322   111111010          9\n",
            "’      1   9.366322  1111110110         10\n",
            "Q      1   9.366322  1111110111         10\n",
            "V      1   9.366322   111111100          9\n",
            "B      1   9.366322  1111111010         10\n",
            "5      1   9.366322  1111111011         10\n",
            "0      1   9.366322   111111110          9\n",
            "Y      1   9.366322  1111111110         10\n",
            "K      1   9.366322  1111111111         10\n",
            "\n",
            "B0                  : 5280\n",
            "B1                  : 3284\n",
            "Compression Ratio   : 1.607795371498173\n",
            "Ideal Entropy       : 4.913314065502259\n",
            "Compression Entropy : 4.975757575757576\n"
          ],
          "name": "stdout"
        }
      ]
    },
    {
      "cell_type": "code",
      "metadata": {
        "id": "PmLrzFOtB9Cd",
        "colab_type": "code",
        "colab": {}
      },
      "source": [
        "array = []"
      ],
      "execution_count": 32,
      "outputs": []
    },
    {
      "cell_type": "code",
      "metadata": {
        "id": "YPqANCasEpex",
        "colab_type": "code",
        "colab": {}
      },
      "source": [
        "for filename in os.listdir('/content/data/text'):\n",
        "    if filename.endswith('.txt'):\n",
        "        data = open('/content/data/text/' + filename).read()\n",
        "        encoder = Shannon_FanoTree()\n",
        "        encoder.compress(data)\n",
        "        array.append([encoder.B0, encoder.B1, round(encoder.B0/encoder.B1,5), round(encoder.ideal_entropy,5), round((8*encoder.B1)/encoder.B0,5)])"
      ],
      "execution_count": 33,
      "outputs": []
    },
    {
      "cell_type": "code",
      "metadata": {
        "id": "A-CXGyw7GBXd",
        "colab_type": "code",
        "colab": {
          "base_uri": "https://localhost:8080/",
          "height": 580
        },
        "outputId": "5f5cfe5c-deaf-44e0-9680-1e307ecb1905"
      },
      "source": [
        "from prettytable import PrettyTable\n",
        "t = PrettyTable(['Bits_Before', 'Bit_After', 'Compression Ratio', 'Ideal_Entropy', 'Compression Entropy'])\n",
        "for i in array:\n",
        "    t.add_row(i)\n",
        "print(t)"
      ],
      "execution_count": 34,
      "outputs": [
        {
          "output_type": "stream",
          "text": [
            "+-------------+-----------+-------------------+---------------+---------------------+\n",
            "| Bits_Before | Bit_After | Compression Ratio | Ideal_Entropy | Compression Entropy |\n",
            "+-------------+-----------+-------------------+---------------+---------------------+\n",
            "|     6024    |    3702   |      1.62723      |    4.86545    |       4.91633       |\n",
            "|     4848    |    3035   |      1.59736      |    4.95382    |       5.00825       |\n",
            "|     4824    |    3012   |      1.60159      |    4.94418    |       4.99502       |\n",
            "|     3600    |    2200   |      1.63636      |    4.86094    |       4.88889       |\n",
            "|     3752    |    2314   |      1.62143      |    4.88342    |        4.9339       |\n",
            "|     5592    |    3387   |      1.65102      |    4.81698    |       4.84549       |\n",
            "|     6896    |    4278   |      1.61197      |    4.90341    |       4.96288       |\n",
            "|     7144    |    4446   |      1.60684      |    4.92814    |       4.97872       |\n",
            "|     4848    |    2969   |      1.63287      |    4.87174    |       4.89934       |\n",
            "|     4472    |    2719   |      1.64472      |    4.81307    |       4.86404       |\n",
            "|     5920    |    3647   |      1.62325      |    4.86714    |       4.92838       |\n",
            "|     4048    |    2477   |      1.63423      |    4.86093    |       4.89526       |\n",
            "|     4680    |    2917   |      1.60439      |    4.92099    |       4.98632       |\n",
            "|     5344    |    3273   |      1.63275      |    4.85369    |        4.8997       |\n",
            "|     3408    |    2066   |      1.64956      |    4.81186    |       4.84977       |\n",
            "|     4792    |    2927   |      1.63717      |    4.85995    |       4.88648       |\n",
            "|     3680    |    2180   |      1.68807      |    4.71273    |       4.73913       |\n",
            "|     3592    |    2205   |      1.62902      |    4.87743    |       4.91091       |\n",
            "|     3432    |    2078   |      1.65159      |    4.79774    |       4.84382       |\n",
            "|     4432    |    2650   |      1.67245      |    4.74601    |       4.78339       |\n",
            "|     6032    |    3721   |      1.62107      |    4.89801    |       4.93501       |\n",
            "|     4224    |    2551   |      1.65582      |    4.78874    |       4.83144       |\n",
            "|     4152    |    2513   |      1.65221      |     4.8139    |        4.842        |\n",
            "|     5280    |    3284   |       1.6078      |    4.91331    |       4.97576       |\n",
            "|     4232    |    2598   |      1.62895      |    4.85623    |       4.91115       |\n",
            "|     3544    |    2129   |      1.66463      |    4.77821    |       4.80587       |\n",
            "|     5272    |    3223   |      1.63574      |    4.85529    |       4.89074       |\n",
            "|     3896    |    2377   |      1.63904      |    4.82359    |        4.8809       |\n",
            "|     5320    |    3283   |      1.62047      |    4.91125    |       4.93684       |\n",
            "+-------------+-----------+-------------------+---------------+---------------------+\n"
          ],
          "name": "stdout"
        }
      ]
    },
    {
      "cell_type": "code",
      "metadata": {
        "id": "lr8U6uIuHGpi",
        "colab_type": "code",
        "colab": {}
      },
      "source": [
        ""
      ],
      "execution_count": null,
      "outputs": []
    }
  ]
}