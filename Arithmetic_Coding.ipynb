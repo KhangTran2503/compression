{
 "cells": [
  {
   "cell_type": "code",
   "execution_count": 213,
   "metadata": {},
   "outputs": [],
   "source": [
    "from collections import defaultdict,Counter\n",
    "import random\n",
    "from decimal import Decimal, getcontext"
   ]
  },
  {
   "cell_type": "code",
   "execution_count": 222,
   "metadata": {},
   "outputs": [],
   "source": [
    "\"\"\"\n",
    "@author: KhangTran2503\n",
    "\"\"\"\n",
    "class Arithmetic:\n",
    "    def __init__(self):\n",
    "        self.data = ''\n",
    "        self.table_prob = defaultdict(list)\n",
    "        self.terminator = '$'\n",
    "        self.encode = 0\n",
    "    \n",
    "    def __get_table(self):\n",
    "            count = Counter(self.data).items()\n",
    "            total = sum(map(lambda x: x[1],count))\n",
    "            \n",
    "            low_prob = 0\n",
    "            for key, val in count:\n",
    "                prob = val/total\n",
    "                self.table_prob[key].append(prob)\n",
    "                self.table_prob[key].append((low_prob,low_prob + prob))\n",
    "                low_prob += prob\n",
    "            \n",
    "    @staticmethod        \n",
    "    def float2bin(number):\n",
    "        whole, des = str(number).split(\".\")\n",
    "        res = bin(int(whole))[2:] + '.'\n",
    "        des = number - int(whole)\n",
    "        res = ''\n",
    "        while (des != int(des)):\n",
    "            des = des * 2\n",
    "            res += str(int(des) % 2)\n",
    "            if int(des) >= 2:\n",
    "                des -= 2\n",
    "        return res\n",
    "\n",
    "    @staticmethod\n",
    "    def bin2float(bin_code):\n",
    "        bin1, bin2 = bin_code.split('.')\n",
    "        res = 0.0\n",
    "        \n",
    "        bin1 =  bin1[::-1]\n",
    "        pw2 = 1\n",
    "        for b in bin1:\n",
    "            res += int(b)*pw2\n",
    "            pw2 *= 2\n",
    "        \n",
    "        pw2sub = 0.5\n",
    "        for b in bin2:\n",
    "            res += int(b)*pw2sub\n",
    "            pw2sub /= 2\n",
    "        return res\n",
    "        \n",
    "    def compress(self,data):\n",
    "        # assign value\n",
    "        self.data = data + self.terminator\n",
    "        self.__get_table()\n",
    "#         print(self.table_prob)\n",
    "#         compresss\n",
    "        Low = 0.0\n",
    "        High = 1.0\n",
    "        Range = 1.0\n",
    "        for symbol in self.data:\n",
    "            (Low_prob, High_prob) = self.table_prob[symbol][1]\n",
    "            new_Low = Low + Range*Low_prob\n",
    "            new_High = Low + Range*High_prob\n",
    "            Low, High, Range = new_Low, new_High, new_High - new_Low\n",
    "            #print(Low,High)\n",
    "        \n",
    "        value = random.uniform(Low,High)\n",
    "        #print(Low,High,value)\n",
    "        #print(value)\n",
    "        self.encode = self.float2bin(value)\n",
    "    \n",
    "    def share_encode(self):\n",
    "        return (self.encode,self.table_prob)\n",
    "            \n",
    "    @classmethod\n",
    "    def decompress(cls,data_encode):\n",
    "        (encode,table_prob) = data_encode\n",
    "\n",
    "        value = cls.bin2float('0.'+ encode)\n",
    "        Low = 0\n",
    "        High = 1.0\n",
    "        Range = 1.0\n",
    "        res = ''\n",
    "        symbol = ''\n",
    "        Terminator = '$'\n",
    "        while 1:\n",
    "            #print(round(value,25))\n",
    "            for key in table_prob:\n",
    "                (key_Low,key_High) = table_prob[key][1]\n",
    "                if key_Low <= value < key_High:\n",
    "                    symbol = key\n",
    "                    break\n",
    "            if symbol == Terminator: break\n",
    "            Low = key_Low\n",
    "            High = key_High\n",
    "            Range = High - Low\n",
    "            res += symbol\n",
    "            value = (value - Low) / Range\n",
    "        return res\n",
    "\n",
    "            \n",
    "            "
   ]
  },
  {
   "cell_type": "markdown",
   "metadata": {},
   "source": [
    "# 1. Encode"
   ]
  },
  {
   "cell_type": "code",
   "execution_count": 226,
   "metadata": {},
   "outputs": [],
   "source": [
    "encoder = Arithmetic()\n",
    "encoder.compress('CAEE')"
   ]
  },
  {
   "cell_type": "code",
   "execution_count": 235,
   "metadata": {},
   "outputs": [],
   "source": [
    "encoder = Arithmetic()\n",
    "encoder.compress('1 2 3 4 5 6 7 8 9')"
   ]
  },
  {
   "cell_type": "markdown",
   "metadata": {},
   "source": [
    "# 2. Decode"
   ]
  },
  {
   "cell_type": "markdown",
   "metadata": {},
   "source": [
    "**Hạn chế:** Những xâu vượt quá độ dài 17 thì decompress không còn chính xác nữa.\n",
    "\n",
    "**Nguyên Nhân:** Do phần thập phân trong Python còn hạn chế"
   ]
  },
  {
   "cell_type": "code",
   "execution_count": 236,
   "metadata": {},
   "outputs": [],
   "source": [
    "data_encode = encoder.share_encode()\n",
    "#print(data_encode)"
   ]
  },
  {
   "cell_type": "code",
   "execution_count": 237,
   "metadata": {},
   "outputs": [
    {
     "name": "stdout",
     "output_type": "stream",
     "text": [
      "1 2 3 4 5 6 7 8 9\n"
     ]
    }
   ],
   "source": [
    "print(Arithmetic().decompress(data_encode))"
   ]
  },
  {
   "cell_type": "code",
   "execution_count": null,
   "metadata": {},
   "outputs": [],
   "source": []
  }
 ],
 "metadata": {
  "kernelspec": {
   "display_name": "Python 3",
   "language": "python",
   "name": "python3"
  },
  "language_info": {
   "codemirror_mode": {
    "name": "ipython",
    "version": 3
   },
   "file_extension": ".py",
   "mimetype": "text/x-python",
   "name": "python",
   "nbconvert_exporter": "python",
   "pygments_lexer": "ipython3",
   "version": "3.6.9"
  }
 },
 "nbformat": 4,
 "nbformat_minor": 4
}
