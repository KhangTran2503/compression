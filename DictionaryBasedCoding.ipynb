{
  "nbformat": 4,
  "nbformat_minor": 0,
  "metadata": {
    "colab": {
      "name": "DictionaryBasedCoding.ipynb",
      "provenance": [],
      "collapsed_sections": [],
      "authorship_tag": "ABX9TyP9/Np59rupHU2f53xXq4Xx",
      "include_colab_link": true
    },
    "kernelspec": {
      "name": "python3",
      "display_name": "Python 3"
    }
  },
  "cells": [
    {
      "cell_type": "markdown",
      "metadata": {
        "id": "view-in-github",
        "colab_type": "text"
      },
      "source": [
        "<a href=\"https://colab.research.google.com/github/shaking54/compression/blob/master/DictionaryBasedCoding.ipynb\" target=\"_parent\"><img src=\"https://colab.research.google.com/assets/colab-badge.svg\" alt=\"Open In Colab\"/></a>"
      ]
    },
    {
      "cell_type": "markdown",
      "metadata": {
        "id": "tMcsW59wlRLF",
        "colab_type": "text"
      },
      "source": [
        "##*Dictionary Based Coding"
      ]
    },
    {
      "cell_type": "code",
      "metadata": {
        "id": "5F90JjH6cNk7",
        "colab_type": "code",
        "colab": {}
      },
      "source": [
        "class DictionaryBasedCoding(object):    \n",
        "      def __init__(self):\n",
        "        pass\n",
        "      def Compression(self,inputcode):\n",
        "        output = ''\n",
        "        dictionary={'A': 1, 'B': 2, 'C': 3}\n",
        "        key = 4\n",
        "        s = inputcode[0]\n",
        "        for c in inputcode[1:]:\n",
        "          if s+c in dictionary:\n",
        "            s = s + c\n",
        "          else:\n",
        "            output+=str(dictionary[s])\n",
        "            dictionary[s+c]=key\n",
        "            key+=1\n",
        "            s = c\n",
        "        output+=str(dictionary[s])\n",
        "        print(output)\n",
        "\n",
        "      def Decompression(self,inputcode):\n",
        "        output = ''\n",
        "        dictionary=['A', 'B', 'C']\n",
        "        s = 'NIL'\n",
        "        for k in inputcode:\n",
        "            entry = dictionary[int(k)-1]\n",
        "            output += entry\n",
        "            if s != 'NIL':\n",
        "                dictionary.append(s + entry[0])\n",
        "            s = entry\n",
        "        print(output)\n",
        "    "
      ],
      "execution_count": 48,
      "outputs": []
    },
    {
      "cell_type": "code",
      "metadata": {
        "id": "hbS498CTf6d-",
        "colab_type": "code",
        "colab": {}
      },
      "source": [
        "inputcode = \"ABABBABCABABBA\"\n",
        "inputcode2 = '124523461'\n",
        "DictionaryBasedCoding = DictionaryBasedCoding()"
      ],
      "execution_count": 49,
      "outputs": []
    },
    {
      "cell_type": "code",
      "metadata": {
        "id": "5qFVZeodeKNw",
        "colab_type": "code",
        "colab": {
          "base_uri": "https://localhost:8080/",
          "height": 34
        },
        "outputId": "86a373a7-fc35-4985-a831-76e2b4d6060b"
      },
      "source": [
        "DictionaryBasedCoding.Compression(inputcode)"
      ],
      "execution_count": 50,
      "outputs": [
        {
          "output_type": "stream",
          "text": [
            "124523461\n"
          ],
          "name": "stdout"
        }
      ]
    },
    {
      "cell_type": "code",
      "metadata": {
        "id": "uH5Q4hN1cubo",
        "colab_type": "code",
        "colab": {
          "base_uri": "https://localhost:8080/",
          "height": 34
        },
        "outputId": "2e344c61-34a6-424b-e298-4b42682a6a01"
      },
      "source": [
        "DictionaryBasedCoding.Decompression(inputcode2)"
      ],
      "execution_count": 51,
      "outputs": [
        {
          "output_type": "stream",
          "text": [
            "ABABBABCABABBA\n"
          ],
          "name": "stdout"
        }
      ]
    },
    {
      "cell_type": "code",
      "metadata": {
        "id": "2A0YZQ2XlONv",
        "colab_type": "code",
        "colab": {}
      },
      "source": [
        ""
      ],
      "execution_count": null,
      "outputs": []
    }
  ]
}