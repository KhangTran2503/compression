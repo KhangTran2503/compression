{
  "nbformat": 4,
  "nbformat_minor": 0,
  "metadata": {
    "colab": {
      "name": "DictionaryBasedCoding.ipynb",
      "provenance": [],
      "collapsed_sections": [],
      "toc_visible": true,
      "authorship_tag": "ABX9TyP5OXnUoyESslc9PK3pm2Nq",
      "include_colab_link": true
    },
    "kernelspec": {
      "name": "python3",
      "display_name": "Python 3"
    }
  },
  "cells": [
    {
      "cell_type": "markdown",
      "metadata": {
        "id": "view-in-github",
        "colab_type": "text"
      },
      "source": [
        "<a href=\"https://colab.research.google.com/github/shaking54/compression/blob/master/DictionaryBasedCoding.ipynb\" target=\"_parent\"><img src=\"https://colab.research.google.com/assets/colab-badge.svg\" alt=\"Open In Colab\"/></a>"
      ]
    },
    {
      "cell_type": "markdown",
      "metadata": {
        "id": "tMcsW59wlRLF",
        "colab_type": "text"
      },
      "source": [
        "##*Dictionary Based Coding"
      ]
    },
    {
      "cell_type": "code",
      "metadata": {
        "id": "TTZ4dyAWlr7v",
        "colab_type": "code",
        "colab": {
          "base_uri": "https://localhost:8080/",
          "height": 119
        },
        "outputId": "752924bc-15eb-49ac-fab4-387a11da454a"
      },
      "source": [
        "!git clone https://github.com/shaking54/compression"
      ],
      "execution_count": 52,
      "outputs": [
        {
          "output_type": "stream",
          "text": [
            "Cloning into 'compression'...\n",
            "remote: Enumerating objects: 65, done.\u001b[K\n",
            "remote: Counting objects: 100% (65/65), done.\u001b[K\n",
            "remote: Compressing objects: 100% (49/49), done.\u001b[K\n",
            "remote: Total 65 (delta 12), reused 43 (delta 6), pack-reused 0\u001b[K\n",
            "Unpacking objects: 100% (65/65), done.\n"
          ],
          "name": "stdout"
        }
      ]
    },
    {
      "cell_type": "code",
      "metadata": {
        "id": "5F90JjH6cNk7",
        "colab_type": "code",
        "colab": {}
      },
      "source": [
        "class DictionaryBasedCoding(object):    \n",
        "      def __init__(self):\n",
        "        self.CompressionRatio = 0\n",
        "        pass\n",
        "      def Compression(self,inputcode):\n",
        "        output = ''\n",
        "        dictionary={'A': 1, 'B': 2, 'C': 3}\n",
        "        key = 4\n",
        "        s = inputcode[0]\n",
        "        for c in inputcode[1:]:\n",
        "          if s+c in dictionary:\n",
        "            s = s + c\n",
        "          else:\n",
        "            output+=str(dictionary[s])\n",
        "            dictionary[s+c]=key\n",
        "            key+=1\n",
        "            s = c\n",
        "        output+=str(dictionary[s])\n",
        "        print(output)\n",
        "        self.CompressionRatio = len(output)/len(inputcode)\n",
        "\n",
        "      def Decompression(self,inputcode):\n",
        "        output = ''\n",
        "        dictionary=['A', 'B', 'C']\n",
        "        s = 'NIL'\n",
        "        for k in inputcode:\n",
        "            entry = dictionary[int(k)-1]\n",
        "            output += entry\n",
        "            if s != 'NIL':\n",
        "                dictionary.append(s + entry[0])\n",
        "            s = entry\n",
        "        print(output)\n",
        "    "
      ],
      "execution_count": 86,
      "outputs": []
    },
    {
      "cell_type": "code",
      "metadata": {
        "id": "hbS498CTf6d-",
        "colab_type": "code",
        "colab": {}
      },
      "source": [
        "inputcode = \"ABABBABCABABBA\"\n",
        "inputcode2 = '124523461'\n",
        "DictionaryBasedCoding = DictionaryBasedCoding()"
      ],
      "execution_count": 87,
      "outputs": []
    },
    {
      "cell_type": "code",
      "metadata": {
        "id": "5qFVZeodeKNw",
        "colab_type": "code",
        "colab": {
          "base_uri": "https://localhost:8080/",
          "height": 34
        },
        "outputId": "3cc08a9a-e4c2-4fc1-c8aa-edaa81473698"
      },
      "source": [
        "DictionaryBasedCoding.Compression(inputcode)"
      ],
      "execution_count": 88,
      "outputs": [
        {
          "output_type": "stream",
          "text": [
            "124523461\n"
          ],
          "name": "stdout"
        }
      ]
    },
    {
      "cell_type": "code",
      "metadata": {
        "id": "oENu-8jin0lz",
        "colab_type": "code",
        "colab": {
          "base_uri": "https://localhost:8080/",
          "height": 34
        },
        "outputId": "26a62a75-e257-484a-958e-961a5327b9d8"
      },
      "source": [
        "DictionaryBasedCoding.CompressionRatio\n"
      ],
      "execution_count": 90,
      "outputs": [
        {
          "output_type": "execute_result",
          "data": {
            "text/plain": [
              "0.6428571428571429"
            ]
          },
          "metadata": {
            "tags": []
          },
          "execution_count": 90
        }
      ]
    },
    {
      "cell_type": "code",
      "metadata": {
        "id": "uH5Q4hN1cubo",
        "colab_type": "code",
        "colab": {
          "base_uri": "https://localhost:8080/",
          "height": 34
        },
        "outputId": "2e344c61-34a6-424b-e298-4b42682a6a01"
      },
      "source": [
        "DictionaryBasedCoding.Decompression(inputcode2)"
      ],
      "execution_count": 51,
      "outputs": [
        {
          "output_type": "stream",
          "text": [
            "ABABBABCABABBA\n"
          ],
          "name": "stdout"
        }
      ]
    },
    {
      "cell_type": "code",
      "metadata": {
        "id": "2A0YZQ2XlONv",
        "colab_type": "code",
        "colab": {}
      },
      "source": [
        ""
      ],
      "execution_count": null,
      "outputs": []
    }
  ]
}