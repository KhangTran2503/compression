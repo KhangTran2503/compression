{
  "nbformat": 4,
  "nbformat_minor": 0,
  "metadata": {
    "colab": {
      "name": "Image Compression using K-means.ipynb",
      "provenance": [],
      "collapsed_sections": [],
      "authorship_tag": "ABX9TyNnJDks6eqYhncPsaH4vkWG",
      "include_colab_link": true
    },
    "kernelspec": {
      "name": "python3",
      "display_name": "Python 3"
    }
  },
  "cells": [
    {
      "cell_type": "markdown",
      "metadata": {
        "id": "view-in-github",
        "colab_type": "text"
      },
      "source": [
        "<a href=\"https://colab.research.google.com/github/shaking54/compression/blob/master/Image_Compression_using_K_means.ipynb\" target=\"_parent\"><img src=\"https://colab.research.google.com/assets/colab-badge.svg\" alt=\"Open In Colab\"/></a>"
      ]
    },
    {
      "cell_type": "code",
      "metadata": {
        "id": "VMnMTb_qdCPr",
        "colab_type": "code",
        "colab": {}
      },
      "source": [
        "import random\n",
        "import cv2 \n",
        "import numpy as np\n",
        "from numpy import matlib"
      ],
      "execution_count": 108,
      "outputs": []
    },
    {
      "cell_type": "code",
      "metadata": {
        "id": "Az07lwPAcu7M",
        "colab_type": "code",
        "colab": {}
      },
      "source": [
        "class K_Means_compression(object):\n",
        "    def __init__(self):\n",
        "      self.rows = None\n",
        "      self.cols = None\n",
        "      self.X = None\n",
        "      self.c = None\n",
        "      self.K = 16\n",
        "      self.idx = None\n",
        "      self.centroids = None\n",
        "      pass\n",
        "    \n",
        "    def load_image(self, path):\n",
        "        image = cv2.imread(path)\n",
        "        self.rows = image.shape[0]\n",
        "        self.cols = image.shape[1]\n",
        "        self.image = image/255\n",
        "        self.X = image.reshape(image.shape[0]*image.shape[1],3)\n",
        "\n",
        "    def init_centroids(self):\n",
        "        self.c = random.sample(list(self.X),self.K)\n",
        "        \n",
        "    def run_kMean(self):\n",
        "        m = np.size(self.X,0)\n",
        "        n = np.size(self.X,1)\n",
        "        K = np.size(self.c,0)\n",
        "        temp_centroids = self.c\n",
        "        previous_centroids = temp_centroids\n",
        "        temp_idx = np.zeros((m,1))\n",
        "        for i in range(1,self.K):\n",
        "            temp_idx = self.closest_centroids(self.X,temp_centroids)\n",
        "            temp_centroids = self.compute_centroids(self.X,temp_idx, K)\n",
        "        self.centroids = temp_centroids\n",
        "        self.idx = temp_idx\n",
        "\n",
        "\n",
        "    @staticmethod\n",
        "    def closest_centroids(X,c):\n",
        "        K = np.size(c,0)\n",
        "        idx = np.zeros((np.size(X,0),1))\n",
        "        arr = np.empty((np.size(X,0),1))\n",
        "        for i in range(0,K):\n",
        "            y = c[i] \n",
        "            temp = np.ones((np.size(X,0),1))*y\n",
        "            b = np.power(np.subtract(X,temp),2) # b = (X-temp)^2\n",
        "            a = np.sum(b,axis = 1)\n",
        "            a = np.asarray(a)\n",
        "            a.resize((np.size(X,0),1))\n",
        "            #print(np.shape(a))\n",
        "            arr = np.append(arr, a, axis=1)\n",
        "        arr = np.delete(arr,0,axis=1)\n",
        "        idx = np.argmin(arr, axis=1)\n",
        "        return idx\n",
        "\n",
        "    @staticmethod\n",
        "    def compute_centroids(X,idx,K):\n",
        "        n = np.size(X,1)\n",
        "        centroids = np.zeros((K,n))\n",
        "        for i in range(0,K):\n",
        "            ci = idx==i\n",
        "            ci = ci.astype(int)\n",
        "            total_number = sum(ci);\n",
        "            ci.resize((np.size(X,0),1))\n",
        "            total_matrix = np.matlib.repmat(ci,1,n)\n",
        "            ci = np.transpose(ci)\n",
        "            total = np.multiply(X,total_matrix)\n",
        "            centroids[i] = (1/total_number)*np.sum(total,axis=0)\n",
        "        return centroids"
      ],
      "execution_count": 113,
      "outputs": []
    },
    {
      "cell_type": "code",
      "metadata": {
        "id": "_nqR8RB1iV1m",
        "colab_type": "code",
        "colab": {}
      },
      "source": [
        "kmeans = K_Means_compression()\n"
      ],
      "execution_count": 114,
      "outputs": []
    },
    {
      "cell_type": "code",
      "metadata": {
        "id": "dcV8hAvcsntP",
        "colab_type": "code",
        "colab": {}
      },
      "source": [
        "def compression(path, kmeans):\n",
        "    for filename in os.listdir(path): \n",
        "      if filename.endswith('.jpg') or filename.endswith('.JPG') or filename.endswith('.png'):\n",
        "          kmeans.load_image(path+ '/'+ filename)\n",
        "          kmeans.init_centroids()\n",
        "          kmeans.run_kMean()\n",
        "          #idx.resize((np.size(X,0),1))\n",
        "          print(np.shape(kmeans.centroids))\n",
        "          print(np.shape(kmeans.idx))\n",
        "          idx = kmeans.closest_centroids(kmeans.X,kmeans.centroids)\n",
        "          X_recovered = kmeans.centroids[idx]\n",
        "          print(np.shape(X_recovered))\n",
        "          X_recovered = np.reshape(X_recovered, (kmeans.rows, kmeans.cols, 3))\n",
        "          print(np.shape(X_recovered))\n",
        "          cv2.imwrite('small_'+ filename, X_recovered)\n",
        "          import matplotlib.pyplot as plt\n",
        "          img = cv2.imread('small_'+filename)\n",
        "          img = cv2.cvtColor(img, cv2.COLOR_BGR2RGB)\n",
        "          plt.imshow(img)"
      ],
      "execution_count": 135,
      "outputs": []
    },
    {
      "cell_type": "code",
      "metadata": {
        "id": "NFym-zeAiZCy",
        "colab_type": "code",
        "colab": {
          "base_uri": "https://localhost:8080/",
          "height": 410
        },
        "outputId": "ac776503-a87a-4b05-a98e-f7987813bdf9"
      },
      "source": [
        "compression('/content/', kmeans)"
      ],
      "execution_count": 137,
      "outputs": [
        {
          "output_type": "stream",
          "text": [
            "(16, 3)\n",
            "(853776,)\n",
            "(853776, 3)\n",
            "(693, 1232, 3)\n"
          ],
          "name": "stdout"
        },
        {
          "output_type": "stream",
          "text": [
            "/usr/local/lib/python3.6/dist-packages/ipykernel_launcher.py:66: RuntimeWarning: divide by zero encountered in long_scalars\n",
            "/usr/local/lib/python3.6/dist-packages/ipykernel_launcher.py:66: RuntimeWarning: invalid value encountered in multiply\n"
          ],
          "name": "stderr"
        },
        {
          "output_type": "stream",
          "text": [
            "(16, 3)\n",
            "(853776,)\n",
            "(853776, 3)\n",
            "(693, 1232, 3)\n"
          ],
          "name": "stdout"
        },
        {
          "output_type": "display_data",
          "data": {
            "image/png": "[encoded data removed]",
            "text/plain": [
              "<Figure size 432x288 with 1 Axes>"
            ]
          },
          "metadata": {
            "tags": [],
            "needs_background": "light"
          }
        }
      ]
    },
    {
      "cell_type": "code",
      "metadata": {
        "id": "3N9aHb-_utCx",
        "colab_type": "code",
        "colab": {
          "base_uri": "https://localhost:8080/",
          "height": 51
        },
        "outputId": "9a2f4035-4593-4c7b-e854-0880bfaa0522"
      },
      "source": [
        "import os\n",
        "info = os.stat('tiger.png')\n",
        "print(\"size of image before running K-mean algorithm: \",info.st_size/1024,\"KB\")\n",
        "info = os.stat('small_tiger.png')\n",
        "print(\"size of image after running K-mean algorithm: \",info.st_size/1024,\"KB\")"
      ],
      "execution_count": 138,
      "outputs": [
        {
          "output_type": "stream",
          "text": [
            "size of image before running K-mean algorithm:  1077.625 KB\n",
            "size of image after running K-mean algorithm:  502.8203125 KB\n"
          ],
          "name": "stdout"
        }
      ]
    },
    {
      "cell_type": "code",
      "metadata": {
        "id": "7Fno2bq2wik_",
        "colab_type": "code",
        "colab": {}
      },
      "source": [
        ""
      ],
      "execution_count": null,
      "outputs": []
    }
  ]
}