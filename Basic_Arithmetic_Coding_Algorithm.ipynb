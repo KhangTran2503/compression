{
  "nbformat": 4,
  "nbformat_minor": 0,
  "metadata": {
    "colab": {
      "name": "Basic Arithmetic Coding Algorithm.ipynb",
      "provenance": [],
      "collapsed_sections": [],
      "authorship_tag": "ABX9TyOGTBdnBBUg8NqO9bdGWfyk",
      "include_colab_link": true
    },
    "kernelspec": {
      "name": "python3",
      "display_name": "Python 3"
    }
  },
  "cells": [
    {
      "cell_type": "markdown",
      "metadata": {
        "id": "view-in-github",
        "colab_type": "text"
      },
      "source": [
        "<a href=\"https://colab.research.google.com/github/shaking54/compression/blob/master/Basic_Arithmetic_Coding_Algorithm.ipynb\" target=\"_parent\"><img src=\"https://colab.research.google.com/assets/colab-badge.svg\" alt=\"Open In Colab\"/></a>"
      ]
    },
    {
      "cell_type": "markdown",
      "metadata": {
        "id": "WfcUuE9f2Ctp",
        "colab_type": "text"
      },
      "source": [
        "##Basic Arithmetic Coding Algorithm"
      ]
    },
    {
      "cell_type": "code",
      "metadata": {
        "id": "uzoC14eS2BDH",
        "colab_type": "code",
        "colab": {}
      },
      "source": [
        "symbol = ['A', 'B', 'C', 'D', 'E', 'F', '$']\n",
        "probability = [0.2, 0.1, 0.2, 0.05, 0.3, 0.05, 0.1 ]\n",
        "Range_low = {'A':0, 'B':0.2, 'C': 0.3, 'D':0.5, 'E':0.55, 'F': 0.85, '$':0.9}\n",
        "Range_high = {'A':0.2, 'B':0.3, 'C':0.5, 'D':0.55, 'E':0.85, 'F':0.9, '$':1.0}\n",
        "\n",
        "\n",
        "def ArithmaticEncoder(inputcode):\n",
        "    low = 0.0\n",
        "    high = 1.0\n",
        "    range = 1.0\n",
        "    i = 0\n",
        "    symbol = ''\n",
        "    symbols = []\n",
        "    lows = []\n",
        "    highs = []\n",
        "    while symbol != '$':\n",
        "        symbol = inputcode[i]\n",
        "        high = round(low + range*Range_high[symbol],5)\n",
        "        low = round(low + range*Range_low[symbol],5)\n",
        "        range = high - low\n",
        "        symbols.append(inputcode[i])\n",
        "        lows.append(low)\n",
        "        highs.append(high)\n",
        "        i+=1\n",
        "    return symbols, lows, highs"
      ],
      "execution_count": 28,
      "outputs": []
    },
    {
      "cell_type": "code",
      "metadata": {
        "id": "j6Acky884mw5",
        "colab_type": "code",
        "colab": {}
      },
      "source": [
        "a,b,c = ArithmaticEncoder('CAEE$')"
      ],
      "execution_count": 29,
      "outputs": []
    },
    {
      "cell_type": "code",
      "metadata": {
        "id": "0sclO_359Q3h",
        "colab_type": "code",
        "colab": {
          "base_uri": "https://localhost:8080/",
          "height": 170
        },
        "outputId": "27af0157-fa9b-4107-dff5-279df7385c0e"
      },
      "source": [
        "from prettytable import PrettyTable\n",
        "t = PrettyTable()\n",
        "t.add_column('symbol',a)\n",
        "t.add_column('low',b)\n",
        "t.add_column('high',c)\n",
        "t.add_column('range',[round(c[i]-b[i],5) for i in range(0,len(a))])\n",
        "print(t)"
      ],
      "execution_count": 46,
      "outputs": [
        {
          "output_type": "stream",
          "text": [
            "+--------+---------+--------+---------+\n",
            "| symbol |   low   |  high  |  range  |\n",
            "+--------+---------+--------+---------+\n",
            "|   C    |   0.3   |  0.5   |   0.2   |\n",
            "|   A    |   0.3   |  0.34  |   0.04  |\n",
            "|   E    |  0.322  | 0.334  |  0.012  |\n",
            "|   E    |  0.3286 | 0.3322 |  0.0036 |\n",
            "|   $    | 0.33184 | 0.3322 | 0.00036 |\n",
            "+--------+---------+--------+---------+\n"
          ],
          "name": "stdout"
        }
      ]
    }
  ]
}