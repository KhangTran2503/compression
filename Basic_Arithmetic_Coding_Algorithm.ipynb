{
 "cells": [
  {
   "cell_type": "markdown",
   "metadata": {
    "colab_type": "text",
    "id": "view-in-github"
   },
   "source": [
    "<a href=\"https://colab.research.google.com/github/shaking54/compression/blob/master/Basic_Arithmetic_Coding_Algorithm.ipynb\" target=\"_parent\"><img src=\"https://colab.research.google.com/assets/colab-badge.svg\" alt=\"Open In Colab\"/></a>"
   ]
  },
  {
   "cell_type": "markdown",
   "metadata": {
    "colab_type": "text",
    "id": "WfcUuE9f2Ctp"
   },
   "source": [
    "##Basic Arithmetic Coding Algorithm"
   ]
  },
  {
   "cell_type": "code",
   "execution_count": 4,
   "metadata": {
    "colab": {},
    "colab_type": "code",
    "id": "uzoC14eS2BDH"
   },
   "outputs": [],
   "source": [
    "symbol = ['A', 'B', 'C', 'D', 'E', 'F', '$']\n",
    "probability = [0.2, 0.1, 0.2, 0.05, 0.3, 0.05, 0.1 ]\n",
    "Range_low = {'A':0, 'B':0.2, 'C': 0.3, 'D':0.5, 'E':0.55, 'F': 0.85, '$':0.9}\n",
    "Range_high = {'A':0.2, 'B':0.3, 'C':0.5, 'D':0.55, 'E':0.85, 'F':0.9, '$':1.0}\n",
    "\n",
    "\n",
    "def ArithmaticEncoder(inputcode):\n",
    "    low = 0.0\n",
    "    high = 1.0\n",
    "    range = 1.0\n",
    "    i = 0\n",
    "    symbol = ''\n",
    "    symbols = []\n",
    "    lows = []\n",
    "    highs = []\n",
    "    while symbol != '$':\n",
    "        symbol = inputcode[i]\n",
    "        high = round(low + range*Range_high[symbol],5)\n",
    "        low = round(low + range*Range_low[symbol],5)\n",
    "        range = high - low\n",
    "        symbols.append(inputcode[i])\n",
    "        lows.append(low)\n",
    "        highs.append(high)\n",
    "        i+=1\n",
    "    print(lows,highs)\n",
    "    return symbols, lows, highs"
   ]
  },
  {
   "cell_type": "code",
   "execution_count": 5,
   "metadata": {
    "colab": {},
    "colab_type": "code",
    "id": "j6Acky884mw5"
   },
   "outputs": [
    {
     "name": "stdout",
     "output_type": "stream",
     "text": [
      "[0.3, 0.3, 0.322, 0.3286, 0.33184] [0.5, 0.34, 0.334, 0.3322, 0.3322]\n"
     ]
    }
   ],
   "source": [
    "a,b,c = ArithmaticEncoder('CAEE$')"
   ]
  },
  {
   "cell_type": "code",
   "execution_count": 3,
   "metadata": {
    "colab": {
     "base_uri": "https://localhost:8080/",
     "height": 170
    },
    "colab_type": "code",
    "id": "0sclO_359Q3h",
    "outputId": "27af0157-fa9b-4107-dff5-279df7385c0e"
   },
   "outputs": [
    {
     "ename": "ModuleNotFoundError",
     "evalue": "No module named 'prettytable'",
     "output_type": "error",
     "traceback": [
      "\u001b[0;31m---------------------------------------------------------------------------\u001b[0m",
      "\u001b[0;31mModuleNotFoundError\u001b[0m                       Traceback (most recent call last)",
      "\u001b[0;32m<ipython-input-3-1599a583d32e>\u001b[0m in \u001b[0;36m<module>\u001b[0;34m\u001b[0m\n\u001b[0;32m----> 1\u001b[0;31m \u001b[0;32mfrom\u001b[0m \u001b[0mprettytable\u001b[0m \u001b[0;32mimport\u001b[0m \u001b[0mPrettyTable\u001b[0m\u001b[0;34m\u001b[0m\u001b[0;34m\u001b[0m\u001b[0m\n\u001b[0m\u001b[1;32m      2\u001b[0m \u001b[0mt\u001b[0m \u001b[0;34m=\u001b[0m \u001b[0mPrettyTable\u001b[0m\u001b[0;34m(\u001b[0m\u001b[0;34m)\u001b[0m\u001b[0;34m\u001b[0m\u001b[0;34m\u001b[0m\u001b[0m\n\u001b[1;32m      3\u001b[0m \u001b[0mt\u001b[0m\u001b[0;34m.\u001b[0m\u001b[0madd_column\u001b[0m\u001b[0;34m(\u001b[0m\u001b[0;34m'symbol'\u001b[0m\u001b[0;34m,\u001b[0m\u001b[0ma\u001b[0m\u001b[0;34m)\u001b[0m\u001b[0;34m\u001b[0m\u001b[0;34m\u001b[0m\u001b[0m\n\u001b[1;32m      4\u001b[0m \u001b[0mt\u001b[0m\u001b[0;34m.\u001b[0m\u001b[0madd_column\u001b[0m\u001b[0;34m(\u001b[0m\u001b[0;34m'low'\u001b[0m\u001b[0;34m,\u001b[0m\u001b[0mb\u001b[0m\u001b[0;34m)\u001b[0m\u001b[0;34m\u001b[0m\u001b[0;34m\u001b[0m\u001b[0m\n\u001b[1;32m      5\u001b[0m \u001b[0mt\u001b[0m\u001b[0;34m.\u001b[0m\u001b[0madd_column\u001b[0m\u001b[0;34m(\u001b[0m\u001b[0;34m'high'\u001b[0m\u001b[0;34m,\u001b[0m\u001b[0mc\u001b[0m\u001b[0;34m)\u001b[0m\u001b[0;34m\u001b[0m\u001b[0;34m\u001b[0m\u001b[0m\n",
      "\u001b[0;31mModuleNotFoundError\u001b[0m: No module named 'prettytable'"
     ]
    }
   ],
   "source": [
    "from prettytable import PrettyTable\n",
    "t = PrettyTable()\n",
    "t.add_column('symbol',a)\n",
    "t.add_column('low',b)\n",
    "t.add_column('high',c)\n",
    "t.add_column('range',[round(c[i]-b[i],5) for i in range(0,len(a))])\n",
    "print(t)"
   ]
  }
 ],
 "metadata": {
  "colab": {
   "authorship_tag": "ABX9TyOGTBdnBBUg8NqO9bdGWfyk",
   "collapsed_sections": [],
   "include_colab_link": true,
   "name": "Basic Arithmetic Coding Algorithm.ipynb",
   "provenance": []
  },
  "kernelspec": {
   "display_name": "Python 3",
   "language": "python",
   "name": "python3"
  },
  "language_info": {
   "codemirror_mode": {
    "name": "ipython",
    "version": 3
   },
   "file_extension": ".py",
   "mimetype": "text/x-python",
   "name": "python",
   "nbconvert_exporter": "python",
   "pygments_lexer": "ipython3",
   "version": "3.6.9"
  }
 },
 "nbformat": 4,
 "nbformat_minor": 1
}
